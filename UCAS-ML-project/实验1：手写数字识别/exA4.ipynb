{
 "cells": [
  {
   "attachments": {
    "02.PNG": {
     "src": "https://ai-studio-static-online.cdn.bcebos.com/1fcb5df529cc4bbc8fa8c5aae7733b5ddee16c5f0e8f42c6b93c67cc47062aae"
    }
   },
   "cell_type": "markdown",
   "metadata": {},
   "source": [
    "![02.PNG](attachment:02.PNG)"
   ]
  },
  {
   "attachments": {
    "image.png": {}
   },
   "cell_type": "markdown",
   "metadata": {},
   "source": [
    "定义好模型结构之后，我们要通过以下几个步骤进行模型训练。\n",
    "1.  网络正向传播计算网络输出和损失函数。\n",
    "2.  根据损失函数进行反向误差传播，将网络误差从输出层依次向前传递, 并更新网络中的参数。\n",
    "3.  重复1~2步骤，直至网络训练误差达到规定的程度或训练轮次达到设定值。\n",
    "![image.png](attachment:image.png)"
   ]
  },
  {
   "cell_type": "markdown",
   "metadata": {},
   "source": [
    "导入需要的包\n",
    "nump:  python第三方库，用于进行科学计算\n",
    "PIL : Python Image Library,python,python第三方图像处理库\n",
    "matplotlib:python的绘图库   pyplot:matplotlib的绘图框架\n",
    "os:提供了丰富的方法来处理文件和目录"
   ]
  },
  {
   "cell_type": "code",
   "execution_count": 1,
   "metadata": {
    "id": "39B94B08F1044878996C29532C64E283",
    "scrolled": false
   },
   "outputs": [],
   "source": [
    "#导入需要的包\n",
    "import numpy as np\n",
    "import paddle as paddle\n",
    "import paddle.fluid as fluid\n",
    "from PIL import Image\n",
    "import matplotlib.pyplot as plt\n",
    "import os"
   ]
  },
  {
   "cell_type": "markdown",
   "metadata": {},
   "source": [
    "<h2>STEP1:准备数据</h2>"
   ]
  },
  {
   "cell_type": "markdown",
   "metadata": {},
   "source": [
    "1.MINIST数据集包含60000个训练集和10000测试数据集。分为图片和标签，图片是28*28的像素矩阵，标签为0~9共10个数字。\n",
    "2.定义读取MNIST数据集的train_reader和test_reader，指定一个Batch的大小为128，也就是一次训练或验证128张图像。\n",
    "3.paddle.dataset.mnist.train()或test()接口已经为我们对图片进行了灰度处理、归一化、居中处理等处理。"
   ]
  },
  {
   "cell_type": "code",
   "execution_count": 20,
   "metadata": {},
   "outputs": [
    {
     "name": "stderr",
     "output_type": "stream",
     "text": [
      "\n",
      "\n",
      "\n",
      "\n"
     ]
    }
   ],
   "source": [
    "train_reader = paddle.batch(paddle.reader.shuffle(paddle.dataset.mnist.train(),\n",
    "                                                  buf_size=512),\n",
    "                    batch_size=128)\n",
    "test_reader = paddle.batch(paddle.dataset.mnist.test(),\n",
    "                           batch_size=128)"
   ]
  },
  {
   "cell_type": "markdown",
   "metadata": {},
   "source": [
    "尝试打印一下，观察一下minist数据集"
   ]
  },
  {
   "cell_type": "code",
   "execution_count": 3,
   "metadata": {},
   "outputs": [
    {
     "name": "stderr",
     "output_type": "stream",
     "text": [
      "\n",
      "\n"
     ]
    },
    {
     "name": "stdout",
     "output_type": "stream",
     "text": [
      "[(array([-1.        , -1.        , -1.        , -1.        , -1.        ,\n",
      "       -1.        , -1.        , -1.        , -1.        , -1.        ,\n",
      "       -1.        , -1.        , -1.        , -1.        , -1.        ,\n",
      "       -1.        , -1.        , -1.        , -1.        , -1.        ,\n",
      "       -1.        , -1.        , -1.        , -1.        , -1.        ,\n",
      "       -1.        , -1.        , -1.        , -1.        , -1.        ,\n",
      "       -1.        , -1.        , -1.        , -1.        , -1.        ,\n",
      "       -1.        , -1.        , -1.        , -1.        , -1.        ,\n",
      "       -1.        , -1.        , -1.        , -1.        , -1.        ,\n",
      "       -1.        , -1.        , -1.        , -1.        , -1.        ,\n",
      "       -1.        , -1.        , -1.        , -1.        , -1.        ,\n",
      "       -1.        , -1.        , -1.        , -1.        , -1.        ,\n",
      "       -1.        , -1.        , -1.        , -1.        , -1.        ,\n",
      "       -1.        , -1.        , -1.        , -1.        , -1.        ,\n",
      "       -1.        , -1.        , -1.        , -1.        , -1.        ,\n",
      "       -1.        , -1.        , -1.        , -1.        , -1.        ,\n",
      "       -1.        , -1.        , -1.        , -1.        , -1.        ,\n",
      "       -1.        , -1.        , -1.        , -1.        , -1.        ,\n",
      "       -1.        , -1.        , -1.        , -1.        , -1.        ,\n",
      "       -1.        , -1.        , -1.        , -1.        , -1.        ,\n",
      "       -1.        , -1.        , -1.        , -1.        , -1.        ,\n",
      "       -1.        , -1.        , -1.        , -1.        , -1.        ,\n",
      "       -1.        , -1.        , -1.        , -1.        , -1.        ,\n",
      "       -1.        , -1.        , -1.        , -1.        , -1.        ,\n",
      "       -1.        , -1.        , -1.        , -1.        , -1.        ,\n",
      "       -1.        , -1.        , -1.        , -1.        , -1.        ,\n",
      "       -1.        , -1.        , -1.        , -1.        , -1.        ,\n",
      "       -1.        , -1.        , -1.        , -1.        , -1.        ,\n",
      "       -1.        , -1.        , -1.        , -1.        , -1.        ,\n",
      "       -1.        , -1.        , -1.        , -1.        , -1.        ,\n",
      "       -1.        , -1.        , -0.9764706 , -0.85882354, -0.85882354,\n",
      "       -0.85882354, -0.01176471,  0.06666672,  0.37254906, -0.79607844,\n",
      "        0.30196083,  1.        ,  0.9372549 , -0.00392157, -1.        ,\n",
      "       -1.        , -1.        , -1.        , -1.        , -1.        ,\n",
      "       -1.        , -1.        , -1.        , -1.        , -1.        ,\n",
      "       -1.        , -0.7647059 , -0.7176471 , -0.26274508,  0.20784318,\n",
      "        0.33333337,  0.9843137 ,  0.9843137 ,  0.9843137 ,  0.9843137 ,\n",
      "        0.9843137 ,  0.7647059 ,  0.34901965,  0.9843137 ,  0.8980392 ,\n",
      "        0.5294118 , -0.4980392 , -1.        , -1.        , -1.        ,\n",
      "       -1.        , -1.        , -1.        , -1.        , -1.        ,\n",
      "       -1.        , -1.        , -1.        , -0.6156863 ,  0.8666667 ,\n",
      "        0.9843137 ,  0.9843137 ,  0.9843137 ,  0.9843137 ,  0.9843137 ,\n",
      "        0.9843137 ,  0.9843137 ,  0.9843137 ,  0.96862745, -0.27058822,\n",
      "       -0.35686272, -0.35686272, -0.56078434, -0.69411767, -1.        ,\n",
      "       -1.        , -1.        , -1.        , -1.        , -1.        ,\n",
      "       -1.        , -1.        , -1.        , -1.        , -1.        ,\n",
      "       -1.        , -0.85882354,  0.7176471 ,  0.9843137 ,  0.9843137 ,\n",
      "        0.9843137 ,  0.9843137 ,  0.9843137 ,  0.5529412 ,  0.427451  ,\n",
      "        0.9372549 ,  0.8901961 , -1.        , -1.        , -1.        ,\n",
      "       -1.        , -1.        , -1.        , -1.        , -1.        ,\n",
      "       -1.        , -1.        , -1.        , -1.        , -1.        ,\n",
      "       -1.        , -1.        , -1.        , -1.        , -1.        ,\n",
      "       -0.372549  ,  0.22352946, -0.1607843 ,  0.9843137 ,  0.9843137 ,\n",
      "        0.60784316, -0.9137255 , -1.        , -0.6627451 ,  0.20784318,\n",
      "       -1.        , -1.        , -1.        , -1.        , -1.        ,\n",
      "       -1.        , -1.        , -1.        , -1.        , -1.        ,\n",
      "       -1.        , -1.        , -1.        , -1.        , -1.        ,\n",
      "       -1.        , -1.        , -1.        , -1.        , -0.8901961 ,\n",
      "       -0.99215686,  0.20784318,  0.9843137 , -0.29411763, -1.        ,\n",
      "       -1.        , -1.        , -1.        , -1.        , -1.        ,\n",
      "       -1.        , -1.        , -1.        , -1.        , -1.        ,\n",
      "       -1.        , -1.        , -1.        , -1.        , -1.        ,\n",
      "       -1.        , -1.        , -1.        , -1.        , -1.        ,\n",
      "       -1.        , -1.        , -1.        , -1.        ,  0.09019613,\n",
      "        0.9843137 ,  0.4901961 , -0.9843137 , -1.        , -1.        ,\n",
      "       -1.        , -1.        , -1.        , -1.        , -1.        ,\n",
      "       -1.        , -1.        , -1.        , -1.        , -1.        ,\n",
      "       -1.        , -1.        , -1.        , -1.        , -1.        ,\n",
      "       -1.        , -1.        , -1.        , -1.        , -1.        ,\n",
      "       -1.        , -1.        , -0.9137255 ,  0.4901961 ,  0.9843137 ,\n",
      "       -0.45098037, -1.        , -1.        , -1.        , -1.        ,\n",
      "       -1.        , -1.        , -1.        , -1.        , -1.        ,\n",
      "       -1.        , -1.        , -1.        , -1.        , -1.        ,\n",
      "       -1.        , -1.        , -1.        , -1.        , -1.        ,\n",
      "       -1.        , -1.        , -1.        , -1.        , -1.        ,\n",
      "       -1.        , -0.7254902 ,  0.8901961 ,  0.7647059 ,  0.254902  ,\n",
      "       -0.15294117, -0.99215686, -1.        , -1.        , -1.        ,\n",
      "       -1.        , -1.        , -1.        , -1.        , -1.        ,\n",
      "       -1.        , -1.        , -1.        , -1.        , -1.        ,\n",
      "       -1.        , -1.        , -1.        , -1.        , -1.        ,\n",
      "       -1.        , -1.        , -1.        , -1.        , -1.        ,\n",
      "       -0.36470586,  0.88235295,  0.9843137 ,  0.9843137 , -0.06666666,\n",
      "       -0.8039216 , -1.        , -1.        , -1.        , -1.        ,\n",
      "       -1.        , -1.        , -1.        , -1.        , -1.        ,\n",
      "       -1.        , -1.        , -1.        , -1.        , -1.        ,\n",
      "       -1.        , -1.        , -1.        , -1.        , -1.        ,\n",
      "       -1.        , -1.        , -1.        , -1.        , -0.64705884,\n",
      "        0.45882356,  0.9843137 ,  0.9843137 ,  0.17647064, -0.7882353 ,\n",
      "       -1.        , -1.        , -1.        , -1.        , -1.        ,\n",
      "       -1.        , -1.        , -1.        , -1.        , -1.        ,\n",
      "       -1.        , -1.        , -1.        , -1.        , -1.        ,\n",
      "       -1.        , -1.        , -1.        , -1.        , -1.        ,\n",
      "       -1.        , -1.        , -1.        , -0.8745098 , -0.27058822,\n",
      "        0.9764706 ,  0.9843137 ,  0.4666667 , -1.        , -1.        ,\n",
      "       -1.        , -1.        , -1.        , -1.        , -1.        ,\n",
      "       -1.        , -1.        , -1.        , -1.        , -1.        ,\n",
      "       -1.        , -1.        , -1.        , -1.        , -1.        ,\n",
      "       -1.        , -1.        , -1.        , -1.        , -1.        ,\n",
      "       -1.        , -1.        , -1.        ,  0.9529412 ,  0.9843137 ,\n",
      "        0.9529412 , -0.4980392 , -1.        , -1.        , -1.        ,\n",
      "       -1.        , -1.        , -1.        , -1.        , -1.        ,\n",
      "       -1.        , -1.        , -1.        , -1.        , -1.        ,\n",
      "       -1.        , -1.        , -1.        , -1.        , -1.        ,\n",
      "       -1.        , -1.        , -1.        , -0.6392157 ,  0.0196079 ,\n",
      "        0.43529415,  0.9843137 ,  0.9843137 ,  0.62352943, -0.9843137 ,\n",
      "       -1.        , -1.        , -1.        , -1.        , -1.        ,\n",
      "       -1.        , -1.        , -1.        , -1.        , -1.        ,\n",
      "       -1.        , -1.        , -1.        , -1.        , -1.        ,\n",
      "       -1.        , -1.        , -1.        , -1.        , -0.69411767,\n",
      "        0.16078436,  0.79607844,  0.9843137 ,  0.9843137 ,  0.9843137 ,\n",
      "        0.9607843 ,  0.427451  , -1.        , -1.        , -1.        ,\n",
      "       -1.        , -1.        , -1.        , -1.        , -1.        ,\n",
      "       -1.        , -1.        , -1.        , -1.        , -1.        ,\n",
      "       -1.        , -1.        , -1.        , -1.        , -1.        ,\n",
      "       -0.8117647 , -0.10588235,  0.73333335,  0.9843137 ,  0.9843137 ,\n",
      "        0.9843137 ,  0.9843137 ,  0.5764706 , -0.38823527, -1.        ,\n",
      "       -1.        , -1.        , -1.        , -1.        , -1.        ,\n",
      "       -1.        , -1.        , -1.        , -1.        , -1.        ,\n",
      "       -1.        , -1.        , -1.        , -1.        , -1.        ,\n",
      "       -1.        , -0.81960785, -0.4823529 ,  0.67058825,  0.9843137 ,\n",
      "        0.9843137 ,  0.9843137 ,  0.9843137 ,  0.5529412 , -0.36470586,\n",
      "       -0.9843137 , -1.        , -1.        , -1.        , -1.        ,\n",
      "       -1.        , -1.        , -1.        , -1.        , -1.        ,\n",
      "       -1.        , -1.        , -1.        , -1.        , -1.        ,\n",
      "       -1.        , -1.        , -0.85882354,  0.3411765 ,  0.7176471 ,\n",
      "        0.9843137 ,  0.9843137 ,  0.9843137 ,  0.9843137 ,  0.5294118 ,\n",
      "       -0.372549  , -0.92941177, -1.        , -1.        , -1.        ,\n",
      "       -1.        , -1.        , -1.        , -1.        , -1.        ,\n",
      "       -1.        , -1.        , -1.        , -1.        , -1.        ,\n",
      "       -1.        , -1.        , -1.        , -0.5686275 ,  0.34901965,\n",
      "        0.77254903,  0.9843137 ,  0.9843137 ,  0.9843137 ,  0.9843137 ,\n",
      "        0.9137255 ,  0.04313731, -0.9137255 , -1.        , -1.        ,\n",
      "       -1.        , -1.        , -1.        , -1.        , -1.        ,\n",
      "       -1.        , -1.        , -1.        , -1.        , -1.        ,\n",
      "       -1.        , -1.        , -1.        , -1.        , -1.        ,\n",
      "       -1.        ,  0.06666672,  0.9843137 ,  0.9843137 ,  0.9843137 ,\n",
      "        0.6627451 ,  0.05882359,  0.03529418, -0.8745098 , -1.        ,\n",
      "       -1.        , -1.        , -1.        , -1.        , -1.        ,\n",
      "       -1.        , -1.        , -1.        , -1.        , -1.        ,\n",
      "       -1.        , -1.        , -1.        , -1.        , -1.        ,\n",
      "       -1.        , -1.        , -1.        , -1.        , -1.        ,\n",
      "       -1.        , -1.        , -1.        , -1.        , -1.        ,\n",
      "       -1.        , -1.        , -1.        , -1.        , -1.        ,\n",
      "       -1.        , -1.        , -1.        , -1.        , -1.        ,\n",
      "       -1.        , -1.        , -1.        , -1.        , -1.        ,\n",
      "       -1.        , -1.        , -1.        , -1.        , -1.        ,\n",
      "       -1.        , -1.        , -1.        , -1.        , -1.        ,\n",
      "       -1.        , -1.        , -1.        , -1.        , -1.        ,\n",
      "       -1.        , -1.        , -1.        , -1.        , -1.        ,\n",
      "       -1.        , -1.        , -1.        , -1.        , -1.        ,\n",
      "       -1.        , -1.        , -1.        , -1.        , -1.        ,\n",
      "       -1.        , -1.        , -1.        , -1.        , -1.        ,\n",
      "       -1.        , -1.        , -1.        , -1.        , -1.        ,\n",
      "       -1.        , -1.        , -1.        , -1.        , -1.        ,\n",
      "       -1.        , -1.        , -1.        , -1.        , -1.        ,\n",
      "       -1.        , -1.        , -1.        , -1.        , -1.        ,\n",
      "       -1.        , -1.        , -1.        , -1.        ], dtype=float32), 5)]\n"
     ]
    }
   ],
   "source": [
    "temp_reader = paddle.batch(paddle.dataset.mnist.train(),\n",
    "                           batch_size=1)\n",
    "temp_data=next(temp_reader())\n",
    "print(temp_data)"
   ]
  },
  {
   "cell_type": "markdown",
   "metadata": {},
   "source": [
    "<h2>STEP2:配置网络</h2>"
   ]
  },
  {
   "attachments": {
    "123.png": {
     "src": "https://ai-studio-static-online.cdn.bcebos.com/6a41c50eb8be4665b7071ff3c388a0a23ae1c58513df42de926d1bce522a65ff"
    }
   },
   "cell_type": "markdown",
   "metadata": {},
   "source": [
    "以下的代码判断就是定义一个简单的多层感知器，一共有三层，两个大小为100的隐层和一个大小为10的输出层，因为MNIST数据集是手写0到9的灰度图像，类别有10个，所以最后的输出大小是10。最后输出层的激活函数是Softmax，所以最后的输出层相当于一个分类器。加上一个输入层的话，多层感知器的结构是：输入层-->>隐层-->>隐层-->>输出层。![123.png](attachment:123.png)\n"
   ]
  },
  {
   "cell_type": "code",
   "execution_count": 4,
   "metadata": {
    "id": "E3C4B2E7E6994ACD86D0F87E78316940",
    "scrolled": false
   },
   "outputs": [],
   "source": [
    "# 定义多层感知器\n",
    "def multilayer_perceptron(input):\n",
    "    # 第一个全连接层，激活函数为ReLU\n",
    "    hidden1 = fluid.layers.fc(input=input, size=100, act='relu')\n",
    "    # 第二个全连接层，激活函数为ReLU\n",
    "    hidden2 = fluid.layers.fc(input=hidden1, size=100, act='relu')\n",
    "    # 以softmax为激活函数的全连接输出层，大小为10\n",
    "    prediction = fluid.layers.fc(input=hidden2, size=10, act='softmax')\n",
    "    return prediction"
   ]
  },
  {
   "cell_type": "markdown",
   "metadata": {},
   "source": [
    "定义输入层，输入的是图像数据。图像是28*28的灰度图，所以输入的形状是[1, 28, 28]，如果图像是32*32的彩色图，那么输入的形状是[3. 32, 32]，因为灰度图只有一个通道，而彩色图有RGB三个通道。"
   ]
  },
  {
   "cell_type": "code",
   "execution_count": 5,
   "metadata": {},
   "outputs": [],
   "source": [
    "# 定义输入输出层\n",
    "image = fluid.layers.data(name='image', shape=[1, 28, 28], dtype='float32')  #单通道，28*28像素值\n",
    "label = fluid.layers.data(name='label', shape=[1], dtype='int64')            #图片标签"
   ]
  },
  {
   "cell_type": "markdown",
   "metadata": {},
   "source": [
    "在这里调用定义好的网络来获取分类器"
   ]
  },
  {
   "cell_type": "code",
   "execution_count": 6,
   "metadata": {},
   "outputs": [],
   "source": [
    "# 获取分类器\n",
    "model = multilayer_perceptron(image)"
   ]
  },
  {
   "cell_type": "markdown",
   "metadata": {},
   "source": [
    "接着是定义损失函数，这次使用的是交叉熵损失函数，该函数在分类任务上比较常用。定义了一个损失函数之后，还有对它求平均值，因为定义的是一个Batch的损失值。同时我们还可以定义一个准确率函数，这个可以在我们训练的时候输出分类的准确率。"
   ]
  },
  {
   "cell_type": "code",
   "execution_count": 7,
   "metadata": {},
   "outputs": [],
   "source": [
    "# 获取损失函数和准确率函数\n",
    "cost = fluid.layers.cross_entropy(input=model, label=label)  #使用交叉熵损失函数,描述真实样本标签和预测概率之间的差值\n",
    "avg_cost = fluid.layers.mean(cost)\n",
    "acc = fluid.layers.accuracy(input=model, label=label)"
   ]
  },
  {
   "cell_type": "markdown",
   "metadata": {},
   "source": [
    "接着是定义优化方法，这次我们使用的是Adam优化方法，同时指定学习率为0.001。"
   ]
  },
  {
   "cell_type": "code",
   "execution_count": 8,
   "metadata": {},
   "outputs": [],
   "source": [
    "# 定义优化方法\n",
    "optimizer = fluid.optimizer.AdamOptimizer(learning_rate=0.001)   #使用Adam算法进行优化\n",
    "opts = optimizer.minimize(avg_cost)"
   ]
  },
  {
   "cell_type": "markdown",
   "metadata": {},
   "source": [
    "<h2>STEP3:模型训练 & STEP4:模型评估</h2>"
   ]
  },
  {
   "cell_type": "markdown",
   "metadata": {},
   "source": [
    "接着也是定义一个解析器和初始化参数，"
   ]
  },
  {
   "cell_type": "code",
   "execution_count": 9,
   "metadata": {},
   "outputs": [
    {
     "data": {
      "text/plain": [
       "[]"
      ]
     },
     "execution_count": 9,
     "metadata": {},
     "output_type": "execute_result"
    }
   ],
   "source": [
    "# 定义一个使用CPU的解析器\n",
    "place = fluid.CPUPlace()\n",
    "exe = fluid.Executor(place)\n",
    "# 进行参数初始化\n",
    "exe.run(fluid.default_startup_program())"
   ]
  },
  {
   "cell_type": "markdown",
   "metadata": {},
   "source": [
    "输入的数据维度是图像数据和图像对应的标签，每个类别的图像都要对应一个标签，这个标签是从0递增的整型数值。"
   ]
  },
  {
   "cell_type": "code",
   "execution_count": 10,
   "metadata": {},
   "outputs": [],
   "source": [
    "# 定义输入数据维度\n",
    "feeder = fluid.DataFeeder(place=place, feed_list=[image, label])"
   ]
  },
  {
   "cell_type": "markdown",
   "metadata": {},
   "source": [
    "最后就可以开始训练了，我们这次训练5个Pass。在上面我们已经定义了一个求准确率的函数，所以我们在训练的时候让它输出当前的准确率，计算准确率的原理很简单，就是把训练是预测的结果和真实的值比较，求出准确率。每一个Pass训练结束之后，再进行一次测试，使用测试集进行测试，并求出当前的Cost和准确率的平均值。"
   ]
  },
  {
   "cell_type": "code",
   "execution_count": 11,
   "metadata": {},
   "outputs": [
    {
     "name": "stdout",
     "output_type": "stream",
     "text": [
      "Pass:0, Batch:0, Cost:2.84289, Accuracy:0.07812\n",
      "Pass:0, Batch:100, Cost:0.41671, Accuracy:0.86719\n",
      "Pass:0, Batch:200, Cost:0.33633, Accuracy:0.89062\n",
      "Pass:0, Batch:300, Cost:0.45717, Accuracy:0.87500\n",
      "Pass:0, Batch:400, Cost:0.30301, Accuracy:0.90625\n",
      "Test:0, Cost:0.23811, Accuracy:0.92652\n",
      "save models to /home/aistudio/data/hand.inference.model\n",
      "Pass:1, Batch:0, Cost:0.16062, Accuracy:0.93750\n",
      "Pass:1, Batch:100, Cost:0.24389, Accuracy:0.91406\n",
      "Pass:1, Batch:200, Cost:0.16197, Accuracy:0.95312\n",
      "Pass:1, Batch:300, Cost:0.13159, Accuracy:0.94531\n",
      "Pass:1, Batch:400, Cost:0.09942, Accuracy:0.96875\n",
      "Test:1, Cost:0.15261, Accuracy:0.95283\n",
      "save models to /home/aistudio/data/hand.inference.model\n",
      "Pass:2, Batch:0, Cost:0.34116, Accuracy:0.91406\n",
      "Pass:2, Batch:100, Cost:0.12896, Accuracy:0.94531\n",
      "Pass:2, Batch:200, Cost:0.11221, Accuracy:0.96875\n",
      "Pass:2, Batch:300, Cost:0.21040, Accuracy:0.92969\n",
      "Pass:2, Batch:400, Cost:0.08679, Accuracy:0.96875\n",
      "Test:2, Cost:0.12282, Accuracy:0.96064\n",
      "save models to /home/aistudio/data/hand.inference.model\n",
      "Pass:3, Batch:0, Cost:0.17961, Accuracy:0.96094\n",
      "Pass:3, Batch:100, Cost:0.11360, Accuracy:0.96875\n",
      "Pass:3, Batch:200, Cost:0.06958, Accuracy:0.99219\n",
      "Pass:3, Batch:300, Cost:0.14877, Accuracy:0.96094\n",
      "Pass:3, Batch:400, Cost:0.04684, Accuracy:0.98438\n",
      "Test:3, Cost:0.10252, Accuracy:0.96756\n",
      "save models to /home/aistudio/data/hand.inference.model\n",
      "Pass:4, Batch:0, Cost:0.13000, Accuracy:0.97656\n",
      "Pass:4, Batch:100, Cost:0.11423, Accuracy:0.96094\n",
      "Pass:4, Batch:200, Cost:0.03578, Accuracy:0.99219\n",
      "Pass:4, Batch:300, Cost:0.03586, Accuracy:0.99219\n",
      "Pass:4, Batch:400, Cost:0.11436, Accuracy:0.95312\n",
      "Test:4, Cost:0.09454, Accuracy:0.96895\n",
      "save models to /home/aistudio/data/hand.inference.model\n"
     ]
    }
   ],
   "source": [
    "# 开始训练和测试\n",
    "for pass_id in range(5):\n",
    "    # 进行训练\n",
    "    for batch_id, data in enumerate(train_reader()):                        #遍历train_reader\n",
    "        train_cost, train_acc = exe.run(program=fluid.default_main_program(),#运行主程序\n",
    "                                        feed=feeder.feed(data),             #给模型喂入数据\n",
    "                                        fetch_list=[avg_cost, acc])         #fetch 误差、准确率\n",
    "        # 每100个batch打印一次信息  误差、准确率\n",
    "        if batch_id % 100 == 0:\n",
    "            print('Pass:%d, Batch:%d, Cost:%0.5f, Accuracy:%0.5f' %\n",
    "                  (pass_id, batch_id, train_cost[0], train_acc[0]))\n",
    "\n",
    "    # 进行测试\n",
    "    test_accs = []\n",
    "    test_costs = []\n",
    "    #每训练一轮 进行一次测试\n",
    "    for batch_id, data in enumerate(test_reader()):                         #遍历test_reader\n",
    "        test_cost, test_acc = exe.run(program=fluid.default_main_program(), #执行训练程序\n",
    "                                      feed=feeder.feed(data),               #喂入数据\n",
    "                                      fetch_list=[avg_cost, acc])           #fetch 误差、准确率\n",
    "        test_accs.append(test_acc[0])                                       #每个batch的准确率\n",
    "        test_costs.append(test_cost[0])                                     #每个batch的误差\n",
    "    # 求测试结果的平均值\n",
    "    test_cost = (sum(test_costs) / len(test_costs))                         #每轮的平均误差\n",
    "    test_acc = (sum(test_accs) / len(test_accs))                            #每轮的平均准确率\n",
    "    print('Test:%d, Cost:%0.5f, Accuracy:%0.5f' % (pass_id, test_cost, test_acc))\n",
    "    \n",
    "    #保存模型\n",
    "    model_save_dir = \"/home/aistudio/data/hand.inference.model\"\n",
    "    # 如果保存路径不存在就创建\n",
    "    if not os.path.exists(model_save_dir):\n",
    "        os.makedirs(model_save_dir)\n",
    "    print ('save models to %s' % (model_save_dir))\n",
    "    fluid.io.save_inference_model(model_save_dir,  #保存推理model的路径\n",
    "                                  ['image'],      #推理（inference）需要 feed 的数据\n",
    "                                  [model],        #保存推理（inference）结果的 Variables\n",
    "                                  exe)            #executor 保存 inference model"
   ]
  },
  {
   "cell_type": "markdown",
   "metadata": {},
   "source": [
    "<h2>STEP5:模型预测</h2>"
   ]
  },
  {
   "cell_type": "markdown",
   "metadata": {},
   "source": [
    "在预测之前，要对图像进行预处理，处理方式要跟训练的时候一样。首先进行灰度化，然后压缩图像大小为28*28，接着将图像转换成一维向量，最后再对一维向量进行归一化处理。"
   ]
  },
  {
   "cell_type": "code",
   "execution_count": 12,
   "metadata": {},
   "outputs": [],
   "source": [
    "# 对图片进行预处理\n",
    "def load_image(file):\n",
    "    im = Image.open(file).convert('L')                        #将RGB转化为灰度图像，L代表灰度图像，灰度图像的像素值在0~255之间\n",
    "    im = im.resize((28, 28), Image.ANTIALIAS)                 #resize image with high-quality 图像大小为28*28\n",
    "    im = np.array(im).reshape(1, 1, 28, 28).astype(np.float32)#返回新形状的数组,把它变成一个 numpy 数组以匹配数据馈送格式。\n",
    "   # print(im)\n",
    "    im = im / 255.0 * 2.0 - 1.0                               #归一化到【-1~1】之间\n",
    "    print(im)\n",
    "    return im"
   ]
  },
  {
   "cell_type": "markdown",
   "metadata": {},
   "source": [
    "我们可以使用Matplotlib工具显示这张图像。"
   ]
  },
  {
   "cell_type": "code",
   "execution_count": 13,
   "metadata": {},
   "outputs": [
    {
     "data": {
      "image/png": "[encoded data removed]",
      "text/plain": [
       "<Figure size 432x288 with 1 Axes>"
      ]
     },
     "metadata": {
      "needs_background": "light"
     },
     "output_type": "display_data"
    }
   ],
   "source": [
    "# img = Image.open('/home/aistudio/data/data1906/infer_3.png')\n",
    "#img = Image.open('/home/aistudio/data/data2304/infer_3.png')\n",
    "img = Image.open('/home/aistudio/data/data2670/6.jpg')\n",
    "plt.imshow(img)   #根据数组绘制图像\n",
    "plt.show()        #显示图像"
   ]
  },
  {
   "cell_type": "code",
   "execution_count": 14,
   "metadata": {},
   "outputs": [],
   "source": [
    "infer_exe = fluid.Executor(place)\n",
    "inference_scope = fluid.core.Scope()"
   ]
  },
  {
   "cell_type": "markdown",
   "metadata": {},
   "source": [
    "最后把图像转换成一维向量并进行预测，数据从feed中的image传入。fetch_list的值是网络模型的最后一层分类器，所以输出的结果是10个标签的概率值，这些概率值的总和为1。"
   ]
  },
  {
   "cell_type": "code",
   "execution_count": 15,
   "metadata": {},
   "outputs": [
    {
     "name": "stdout",
     "output_type": "stream",
     "text": [
      "[[[[-0.9843137  -0.9843137  -0.9843137  -0.9843137  -0.9843137\n",
      "    -0.9843137  -0.9843137  -0.9843137  -0.9843137  -0.9843137\n",
      "    -0.9843137  -0.9843137  -0.9843137  -0.9843137  -0.9843137\n",
      "    -0.9843137  -0.90588236 -1.         -0.8980392  -0.99215686\n",
      "    -0.9764706  -1.         -1.         -1.         -0.9843137\n",
      "    -0.9843137  -0.9843137  -0.9843137 ]\n",
      "   [-0.9843137  -0.9843137  -0.9843137  -0.9843137  -0.9843137\n",
      "    -0.9843137  -0.9843137  -0.9843137  -0.9843137  -0.9843137\n",
      "    -0.9843137  -0.9843137  -0.9843137  -0.9843137  -0.9843137\n",
      "    -0.9843137  -1.         -0.8666667  -1.         -0.99215686\n",
      "    -0.9607843  -1.         -0.99215686 -0.92941177 -0.9843137\n",
      "    -0.9843137  -0.9843137  -0.9843137 ]\n",
      "   [-0.9843137  -0.9843137  -0.9843137  -0.9843137  -0.9843137\n",
      "    -0.9843137  -0.9843137  -0.9843137  -0.9843137  -0.9843137\n",
      "    -0.9843137  -0.9843137  -0.9843137  -0.9843137  -0.9843137\n",
      "    -0.9843137  -0.96862745 -1.         -0.8980392  -1.\n",
      "    -0.9843137   0.5058824   0.09803927 -1.         -0.9843137\n",
      "    -0.9843137  -0.9843137  -0.9843137 ]\n",
      "   [-0.9843137  -0.9843137  -0.9843137  -0.9843137  -0.9843137\n",
      "    -0.9843137  -0.9843137  -0.9843137  -0.9843137  -0.9843137\n",
      "    -0.9843137  -0.9843137  -0.9843137  -0.9843137  -0.9843137\n",
      "    -0.9843137  -1.         -0.9843137  -1.         -0.90588236\n",
      "    -0.41176468  0.8901961   0.35686278 -0.92941177 -0.9843137\n",
      "    -0.9843137  -0.9843137  -0.9843137 ]\n",
      "   [-0.9843137  -0.9843137  -0.9843137  -0.9843137  -0.9843137\n",
      "    -0.9843137  -0.9843137  -0.9843137  -0.9843137  -0.9843137\n",
      "    -0.9843137  -0.9843137  -0.9843137  -0.9843137  -0.9843137\n",
      "    -0.9843137  -0.75686276 -0.90588236 -1.         -0.77254903\n",
      "     0.5686275   0.64705884 -0.8509804  -0.96862745 -0.9843137\n",
      "    -0.9843137  -0.9843137  -0.9843137 ]\n",
      "   [-0.9843137  -0.9843137  -0.9843137  -0.9843137  -0.9843137\n",
      "    -0.9843137  -0.9843137  -0.9843137  -0.9843137  -0.9843137\n",
      "    -0.9843137  -0.9843137  -0.9843137  -0.9843137  -0.9843137\n",
      "    -0.9843137  -1.         -0.84313726 -0.49019605  0.6313726\n",
      "     0.7647059  -0.7254902  -0.9137255  -0.9607843  -0.9843137\n",
      "    -0.9843137  -0.9843137  -0.9843137 ]\n",
      "   [-0.9843137  -0.9843137  -0.9843137  -0.9843137  -0.9843137\n",
      "    -0.9843137  -0.9843137  -0.9843137  -0.9843137  -0.9843137\n",
      "    -0.9843137  -0.9843137  -0.9843137  -0.9843137  -0.9843137\n",
      "    -0.9843137  -0.81960785 -1.          0.19215691  0.88235295\n",
      "     0.01176476 -1.         -0.92156863 -1.         -0.9843137\n",
      "    -0.9843137  -0.9843137  -0.9843137 ]\n",
      "   [-0.9843137  -0.9843137  -0.9843137  -0.9843137  -0.9843137\n",
      "    -0.9843137  -0.9843137  -0.9843137  -0.9843137  -0.9843137\n",
      "    -0.9843137  -0.9843137  -0.9843137  -0.9843137  -0.9843137\n",
      "    -0.9843137  -0.99215686  0.14509809  0.99215686 -0.27843136\n",
      "    -1.         -0.8901961  -1.         -1.         -0.9843137\n",
      "    -0.9843137  -0.9843137  -0.9843137 ]\n",
      "   [-0.9843137  -0.9843137  -0.9843137  -0.9843137  -0.9843137\n",
      "    -0.9843137  -0.9843137  -0.9843137  -0.9843137  -1.\n",
      "    -0.99215686 -0.99215686 -0.99215686 -0.9529412  -0.94509804\n",
      "    -1.         -0.29411763  0.9764706   0.01176476 -0.96862745\n",
      "    -1.         -0.94509804 -1.         -0.9372549  -0.9843137\n",
      "    -0.9843137  -0.9843137  -0.9843137 ]\n",
      "   [-0.9843137  -0.9843137  -0.9843137  -0.9843137  -0.9843137\n",
      "    -0.9843137  -0.9843137  -0.9843137  -0.99215686 -0.9764706\n",
      "    -0.9607843  -0.92156863 -0.9843137  -1.         -0.6784314\n",
      "     0.02745104  0.8117647   0.16078436 -0.70980394 -1.\n",
      "    -0.96862745 -1.         -0.96862745 -0.99215686 -0.9843137\n",
      "    -0.9843137  -0.9843137  -0.9843137 ]\n",
      "   [-0.9843137  -0.9843137  -0.9843137  -0.9843137  -0.9843137\n",
      "    -0.9843137  -0.9843137  -0.9843137  -1.         -0.9607843\n",
      "    -1.         -1.         -0.8352941  -0.5921569   0.02745104\n",
      "     0.8509804   0.24705887 -0.77254903 -0.88235295 -0.92156863\n",
      "    -0.92156863 -0.9764706  -0.88235295 -1.         -0.9843137\n",
      "    -0.9843137  -0.9843137  -0.9843137 ]\n",
      "   [-0.9843137  -0.9843137  -0.9843137  -0.9843137  -0.9843137\n",
      "    -0.9843137  -0.9843137  -0.9843137  -0.8980392  -1.\n",
      "    -0.81960785 -0.96862745 -1.          0.11372554  0.92156863\n",
      "     0.4039216  -0.85882354 -1.         -0.7490196  -0.90588236\n",
      "    -0.9843137  -1.         -0.92156863 -0.99215686 -0.9843137\n",
      "    -0.9843137  -0.9843137  -0.9843137 ]\n",
      "   [-0.9843137  -0.9843137  -0.9843137  -0.9843137  -0.9843137\n",
      "    -0.9843137  -0.9843137  -0.9843137  -1.         -0.92941177\n",
      "    -1.         -1.         -0.08235294  0.8901961   0.37254906\n",
      "    -0.90588236 -0.9529412  -1.         -1.         -0.96862745\n",
      "    -0.88235295 -1.         -1.         -0.9137255  -0.9843137\n",
      "    -0.9843137  -0.9843137  -0.9843137 ]\n",
      "   [-0.9843137  -0.9843137  -0.9843137  -0.9843137  -0.9843137\n",
      "    -0.9843137  -0.9843137  -0.9843137  -0.92941177 -1.\n",
      "    -0.8666667   0.36470592  1.         -0.1607843  -0.9137255\n",
      "     0.09803927  0.11372554 -0.24705881 -0.7490196  -0.9137255\n",
      "    -0.8901961  -0.9843137  -0.9372549  -1.         -0.9843137\n",
      "    -0.9843137  -0.9843137  -0.9843137 ]\n",
      "   [-0.9843137  -0.9843137  -0.9843137  -0.9843137  -0.9843137\n",
      "    -0.9843137  -0.9843137  -0.9843137  -1.         -0.94509804\n",
      "     0.01176476  0.94509804  0.827451    0.48235297  0.6627451\n",
      "     0.9607843   0.84313726  0.92941177  0.41960788 -0.8901961\n",
      "    -1.         -0.9372549  -0.84313726 -1.         -0.9843137\n",
      "    -0.9843137  -0.9843137  -0.9843137 ]\n",
      "   [-0.9843137  -0.9843137  -0.9843137  -0.9843137  -0.9843137\n",
      "    -0.9843137  -0.9843137  -0.9843137  -0.88235295  0.19215691\n",
      "     1.          0.9372549   0.84313726  1.          0.60784316\n",
      "    -0.3333333  -0.12941176  0.8666667   0.9764706  -0.9137255\n",
      "    -1.         -0.8509804  -0.9529412  -1.         -0.9843137\n",
      "    -0.9843137  -0.9843137  -0.9843137 ]\n",
      "   [-0.9764706  -1.         -0.9764706  -0.9529412  -0.8901961\n",
      "    -0.81960785 -0.827451   -0.92941177 -0.24705881  0.90588236\n",
      "     0.92156863  0.85882354  0.09803927 -0.5921569  -0.90588236\n",
      "    -0.92941177 -0.7019608   0.8901961   0.30980396 -0.6627451\n",
      "    -0.7490196  -0.9764706  -0.9607843  -0.9137255  -0.9843137\n",
      "    -0.9843137  -0.9843137  -0.9843137 ]\n",
      "   [-0.9372549  -0.92941177 -0.9607843  -1.         -1.\n",
      "    -0.9607843  -1.         -0.8745098   0.7254902   0.9843137\n",
      "     0.5294118  -0.73333335 -0.92156863 -1.         -0.8352941\n",
      "    -0.9607843   0.41176474  0.70980394 -0.2862745  -1.\n",
      "    -0.9843137  -0.9843137  -0.90588236 -0.9843137  -0.9843137\n",
      "    -0.9843137  -0.9843137  -0.9843137 ]\n",
      "   [-1.         -0.9764706  -0.96862745 -0.9607843  -0.9764706\n",
      "    -0.8509804  -0.8352941   0.13725495  0.7411765   0.082353\n",
      "    -0.62352943 -0.9372549  -0.8666667  -0.9529412  -0.92941177\n",
      "     0.30196083  0.73333335  0.03529418 -0.8352941  -1.\n",
      "    -1.         -0.9529412  -0.8901961  -1.         -0.9843137\n",
      "    -0.9843137  -0.9843137  -0.9843137 ]\n",
      "   [-0.96862745 -1.         -1.         -0.85882354 -0.9764706\n",
      "    -1.         -0.8745098   0.827451    1.         -0.9764706\n",
      "    -0.92941177 -0.79607844 -0.99215686 -0.26274508  0.827451\n",
      "     0.8352941  -0.0745098  -0.70980394 -0.96862745 -0.90588236\n",
      "    -0.9607843  -0.99215686 -0.9764706  -0.99215686 -0.9843137\n",
      "    -0.9843137  -0.9843137  -0.9843137 ]\n",
      "   [-0.92941177 -1.         -1.         -0.88235295 -1.\n",
      "    -1.         -1.          0.6392157   1.          0.8666667\n",
      "     0.94509804  0.79607844  0.69411767  1.          0.8509804\n",
      "     0.12941182 -0.79607844 -0.9843137  -0.92156863 -0.92156863\n",
      "    -1.         -1.         -1.         -0.9137255  -0.9843137\n",
      "    -0.9843137  -0.9843137  -0.9843137 ]\n",
      "   [-0.9843137  -0.99215686 -1.         -0.9764706  -0.9607843\n",
      "    -0.8745098  -0.96862745 -0.10588235  0.654902    1.\n",
      "     0.92156863  1.          0.22352946 -0.14509803 -0.7882353\n",
      "    -1.         -1.         -0.9843137  -0.96862745 -1.\n",
      "    -0.9529412  -0.90588236 -0.99215686 -0.9372549  -0.9843137\n",
      "    -0.9843137  -0.9843137  -0.9843137 ]\n",
      "   [-0.96862745 -0.9607843  -0.96862745 -1.         -1.\n",
      "    -0.94509804 -1.         -0.92156863 -0.94509804 -1.\n",
      "    -0.99215686 -0.9372549  -0.85882354 -1.         -0.7647059\n",
      "    -1.         -1.         -0.99215686 -1.         -1.\n",
      "    -0.8901961  -0.8666667  -0.9137255  -0.9843137  -0.9843137\n",
      "    -0.9843137  -0.9843137  -0.9843137 ]\n",
      "   [-0.9843137  -1.         -0.9372549  -0.96862745 -0.99215686\n",
      "    -0.9607843  -0.9529412  -1.         -0.9607843  -0.8901961\n",
      "    -0.9372549  -0.90588236 -0.70980394 -0.85882354 -1.\n",
      "    -0.9764706  -0.9843137  -0.9843137  -1.         -0.94509804\n",
      "    -0.9764706  -1.         -0.90588236 -0.96862745 -0.9843137\n",
      "    -0.9843137  -0.9843137  -0.9843137 ]\n",
      "   [-0.9843137  -0.9843137  -0.9843137  -0.9843137  -0.9843137\n",
      "    -0.9843137  -0.9843137  -0.9843137  -1.         -1.\n",
      "    -0.9843137  -0.9764706  -0.9764706  -0.9843137  -1.\n",
      "    -1.         -0.99215686 -0.99215686 -0.99215686 -0.99215686\n",
      "    -0.99215686 -0.99215686 -0.99215686 -0.99215686 -0.99215686\n",
      "    -0.99215686 -0.99215686 -0.99215686]\n",
      "   [-0.9843137  -0.9843137  -0.9843137  -0.9843137  -0.9843137\n",
      "    -0.9843137  -0.9843137  -0.9843137  -1.         -1.\n",
      "    -0.9843137  -0.9764706  -0.9764706  -0.9843137  -1.\n",
      "    -1.         -0.99215686 -0.99215686 -0.99215686 -0.99215686\n",
      "    -0.99215686 -0.99215686 -0.99215686 -0.99215686 -0.99215686\n",
      "    -0.99215686 -0.99215686 -0.99215686]\n",
      "   [-0.9843137  -0.9843137  -0.9843137  -0.9843137  -0.9843137\n",
      "    -0.9843137  -0.9843137  -0.9843137  -1.         -1.\n",
      "    -0.9843137  -0.9764706  -0.9764706  -0.9843137  -1.\n",
      "    -1.         -0.99215686 -0.99215686 -0.99215686 -0.99215686\n",
      "    -0.99215686 -0.99215686 -0.99215686 -0.99215686 -0.99215686\n",
      "    -0.99215686 -0.99215686 -0.99215686]\n",
      "   [-0.9843137  -0.9843137  -0.9843137  -0.9843137  -0.9843137\n",
      "    -0.9843137  -0.9843137  -0.9843137  -1.         -0.99215686\n",
      "    -0.99215686 -0.9843137  -0.9843137  -0.99215686 -0.99215686\n",
      "    -1.         -0.99215686 -0.99215686 -0.99215686 -0.99215686\n",
      "    -0.99215686 -0.99215686 -0.99215686 -0.99215686 -0.99215686\n",
      "    -0.99215686 -0.99215686 -0.99215686]]]]\n"
     ]
    }
   ],
   "source": [
    "# 加载数据并开始预测\n",
    "with fluid.scope_guard(inference_scope):\n",
    "    #获取训练好的模型\n",
    "    #从指定目录中加载 推理model(inference model)\n",
    "    [inference_program,                                           #推理Program\n",
    "     feed_target_names,                                           #是一个str列表，它包含需要在推理 Program 中提供数据的变量的名称。 \n",
    "     fetch_targets] = fluid.io.load_inference_model(model_save_dir,#fetch_targets：是一个 Variable 列表，从中我们可以得到推断结果。model_save_dir：模型保存的路径\n",
    "                                                    infer_exe)     #infer_exe: 运行 inference model的 executor\n",
    "   # img = load_image('/home/aistudio/data/data2304/infer_3.png')\n",
    "    img = load_image('/home/aistudio/data/data2670/6.jpg')\n",
    "\n",
    "    results = exe.run(program=inference_program,     #运行推测程序\n",
    "                   feed={feed_target_names[0]: img}, #喂入要预测的img\n",
    "                   fetch_list=fetch_targets)         #得到推测结果,    \n",
    "                  \n",
    "   "
   ]
  },
  {
   "cell_type": "markdown",
   "metadata": {},
   "source": [
    "拿到每个标签的概率值之后，我们要获取概率最大的标签，并打印出来。"
   ]
  },
  {
   "cell_type": "code",
   "execution_count": 16,
   "metadata": {},
   "outputs": [
    {
     "name": "stdout",
     "output_type": "stream",
     "text": [
      "该图片的预测结果的label为: 6\n"
     ]
    }
   ],
   "source": [
    "# 获取概率最大的label\n",
    "lab = np.argsort(results)                               #argsort函数返回的是result数组值从小到大的索引值\n",
    "#print(lab)\n",
    "print(\"该图片的预测结果的label为: %d\" % lab[0][0][-1])  #-1代表读取数组中倒数第一列  "
   ]
  }
 ],
 "metadata": {
  "kernelspec": {
   "display_name": "PaddlePaddle 1.0.1 (Python 3.5)",
   "language": "python",
   "name": "paddle1.0.1-py35"
  },
  "language_info": {
   "codemirror_mode": {
    "name": "ipython",
    "version": 3
   },
   "file_extension": ".py",
   "mimetype": "text/x-python",
   "name": "python",
   "nbconvert_exporter": "python",
   "pygments_lexer": "ipython3",
   "version": "3.5.5"
  }
 },
 "nbformat": 4,
 "nbformat_minor": 1
}
